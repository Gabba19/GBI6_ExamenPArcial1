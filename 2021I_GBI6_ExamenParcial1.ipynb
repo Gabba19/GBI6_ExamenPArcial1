{
 "cells": [
  {
   "cell_type": "markdown",
   "metadata": {},
   "source": [
    "<img src=\"https://www.ikiam.edu.ec/img/logo-ikiam-grey.png\" width=300 height=240 />\n",
    "\n",
    "# EXAMEN PARCIAL 1\n",
    "\n",
    "## GBI6-2021II: BIOINFORMÁTICA\n",
    "\n",
    "**Hillary Gabrielle Galarraga Carrillo**\n",
    "\n",
    "**11-01-2021**"
   ]
  },
  {
   "cell_type": "markdown",
   "metadata": {},
   "source": [
    "<font color='red'>NO AGREGUE NUEVAS CELDAS, UTILICE ÚNICAMENTE LAS QUE ESTÁN CREADAS</font>"
   ]
  },
  {
   "cell_type": "markdown",
   "metadata": {},
   "source": [
    "# 1. UNIX\n",
    "\n",
    "## Ejercicio 1\n",
    "Seleccione la opción el código que imprime el texto: Hola GBI6\n",
    "\n",
    "<img src=\"data/Ejemplo1_Unix.jpg\" width=600 height=450 />\n",
    "\n",
    "## Ejercicio 2\n",
    "Para esta pregunta debe realizar previamente lo siguiente: \n",
    "\n",
    "1-Imprimir el directorio de trabajo actual <br>\n",
    "2-Crear un directorio test1<br>\n",
    "3-No cambie de directorio, pero los items 4, 5 y 6 deben guardarse en el directorio creado en el paso 2. <br>\n",
    "4-Crear el archivo test1.txt<br>\n",
    "5-Guardar el texto Hola GBI6 en un archivo test2.txt<br>\n",
    "6-Guardar la instrucción print(\"Hola GBI6\")  en el archivo test1.py<br>\n",
    "\n",
    "\n",
    "<img src=\"data/Ejemplo 2.1_Unix.png\" width=600 height=450 />\n",
    "<img src=\"data/Ejemplo 2.2_Unix.png\" width=600 height=450 />\n",
    "<img src=\"data/Ejemplo 2.3_Unix.png\" width=600 height=450 />\n",
    "Las otras imagenes es la continuacion del ejercicio, no alcanzo por eso tuve que cortarle\n",
    "\n",
    "## Ejercicio 3\n",
    "Para esta pregunta debe realizar previamente lo siguiente: \n",
    "\n",
    "1-Imprimir el directorio de trabajo actual <br>\n",
    "2-Crear un directorio test1<br>\n",
    "3-No cambie de directorio, pero los items 4, 5 y 6 deben guardarse en el directorio creado en el paso 2. <br>\n",
    "4-Crear el archivo test1.txt<br>\n",
    "5-Guardar el texto Hola GBI6 en un archivo test2.txt<br>\n",
    "6-Guardar la instrucción print(\"Hola GBI6\")  en el archivo test1.py<br>\n",
    "\n",
    "<img src=\"data/Ejemplo 3_Unix.png\" width=600 height=450 />\n",
    "\n",
    "Escriba aquí alguna explicación del ejercicio 3 si lo considera necesario (borre esta línea cuando finalice)\n",
    "\n",
    "## Ejercicio 4\n",
    "Resuelva el ejercicio 1.10.2 Hormone Levels in Baboons. <br>\n",
    "\n",
    "1-Resuelva el ejercicio en un documento de nombre ejercicio_1102.sh<br>\n",
    "2-Cargue el documento ejercicio_1102.sh en GitHub utilizando git push. <br>\n",
    "3-Realice el video explicativo de la resolución ejercicio y guarde en YouTube en formato \"Público\" o \"Unlisted\", y pegue el enlace en el cuaderno de Jupyter.<br>\n"
   ]
  },
  {
   "cell_type": "code",
   "execution_count": 1,
   "metadata": {},
   "outputs": [
    {
     "name": "stderr",
     "output_type": "stream",
     "text": [
      "C:\\Users\\HILLARY BEBE\\anaconda3\\lib\\site-packages\\IPython\\core\\display.py:717: UserWarning: Consider using IPython.display.IFrame instead\n",
      "  warnings.warn(\"Consider using IPython.display.IFrame instead\")\n"
     ]
    },
    {
     "data": {
      "text/html": [
       "<iframe width=\"560\" height=\"315\" src=\"https://www.youtube.com/embed/-gdQ_0IRLmI\" title=\"YouTube video player\" frameborder=\"0\" allow=\"accelerometer; autoplay; clipboard-write; encrypted-media; gyroscope; picture-in-picture\" allowfullscreen></iframe>"
      ],
      "text/plain": [
       "<IPython.core.display.HTML object>"
      ]
     },
     "execution_count": 1,
     "metadata": {},
     "output_type": "execute_result"
    }
   ],
   "source": [
    "from IPython.display import HTML\n",
    "HTML('<iframe width=\"560\" height=\"315\" src=\"https://www.youtube.com/embed/-gdQ_0IRLmI\" title=\"YouTube video player\" frameborder=\"0\" allow=\"accelerometer; autoplay; clipboard-write; encrypted-media; gyroscope; picture-in-picture\" allowfullscreen></iframe>')\n"
   ]
  },
  {
   "cell_type": "markdown",
   "metadata": {},
   "source": [
    "## Ejercicio 5\n",
    "Resuelva el ejercicio 1.10.3 Plant–Pollinator Networks. \n",
    "\n",
    "1-Resuelva el ejercicio en un documento de nombre ejercicio_1103.sh<br>\n",
    "2-Cargue el documento ejercicio_1103.sh en GitHub utilizando git push. <br>\n",
    "3-Realice el video explicativo de la resolución ejercicio y guarde en YouTube en formato \"Público\" o \"Unlisted\", y pegue el enlace en el cuaderno de Jupyter.<br>\n"
   ]
  },
  {
   "cell_type": "code",
   "execution_count": 2,
   "metadata": {},
   "outputs": [
    {
     "data": {
      "text/html": [
       "<iframe width=\"560\" height=\"315\" src=\"https://www.youtube.com/embed/n7q_--Ma-B0\" title=\"YouTube video player\" frameborder=\"0\" allow=\"accelerometer; autoplay; clipboard-write; encrypted-media; gyroscope; picture-in-picture\" allowfullscreen></iframe>"
      ],
      "text/plain": [
       "<IPython.core.display.HTML object>"
      ]
     },
     "execution_count": 2,
     "metadata": {},
     "output_type": "execute_result"
    }
   ],
   "source": [
    "# Coloque aquí su video del ejercicio 5\n",
    "from IPython.display import HTML\n",
    "HTML('<iframe width=\"560\" height=\"315\" src=\"https://www.youtube.com/embed/n7q_--Ma-B0\" title=\"YouTube video player\" frameborder=\"0\" allow=\"accelerometer; autoplay; clipboard-write; encrypted-media; gyroscope; picture-in-picture\" allowfullscreen></iframe>')\n"
   ]
  },
  {
   "cell_type": "markdown",
   "metadata": {
    "jp-MarkdownHeadingCollapsed": true,
    "tags": []
   },
   "source": [
    "# 2. CONTROL DE LA VERSIÓN\n",
    "## Pregunta 6\n",
    "1. Cree en GitHub un repositorio de nombre ```GBI6_ExamenParcial1```. \n",
    "2. Cree un archivo ```Readme.md``` que debe tener lo siguiente: \n",
    "- Datos personales\n",
    "- Características del computador\n",
    "- Programas utilizados\n",
    "- Explicación de la data utilizada\n",
    "\n",
    "\n",
    "## Pregunta 7\n",
    "1. Cada vez que resuelva un ejercicio (del 1 al 10), utilizando Git Bash, GitHub Desktop o Atom realice un *git push* con el mensaje: \n",
    "\n",
    "\n",
    "<font color='red'>Apellido Nombre ha resuelto el ejercicio 1</font> % Cambie con sus apellidos y nombres; y con el número de ejercicio que corresponda \n",
    "- Control de versión ejercicio 1\n",
    "\n",
    "<img src=\"data/ejemplo_unix.jpg\" width=600 height=450 />\n",
    "\n",
    "- Control de versión ejercicio 2\n",
    "\n",
    "<img src=\"data/Push 2.png\" width=600 height=450 />\n",
    "\n",
    "- Control de versión ejercicio 3\n",
    "\n",
    "<img src=\"data/Push 7.png\" width=600 height=450 />\n",
    "\n",
    "- Control de versión ejercicio 4\n",
    "\n",
    "<img src=\"data/Push_ejercicio4.png\" width=600 height=450 />\n",
    "\n",
    "- Control de versión ejercicio 5\n",
    "\n",
    "<img src=\"data/Push_ejercicio5.png\" width=600 height=450 />\n",
    "\n",
    "- Control de versión ejercicio 8\n",
    "\n",
    "<img src=\"data/Push_ejercicio8.png\" width=600 height=450 />\n",
    "\n",
    "- Control de versión ejercicio 9\n",
    "\n",
    "<img src=\"data/Push_ejercicio9.png\" width=600 height=450 />\n",
    "\n",
    "- Control de versión ejercicio 10\n",
    "\n",
    "<img src=\"data/Push_ejercicio10.png\" width=600 height=450 />\n",
    "\n",
    "3. Cree un directorio de nombre ```data``` donde deben estar guardados: (i) la data utilizada y (ii) las capturas de pantalla de los ejercicios 1 al 3 y los git push del ejercicio 1 al 10 (en total debe tener 13 imágenes). \n",
    "4. Inserte aquí el enlace de su repositorio (válido para el ejercicio 6 y 7): [GitHub Repository: GBI6_ExamenParcial1](https://github.com/gualapuromoises/2021_gbi6.git) (este enlace es de ejemplo)"
   ]
  },
  {
   "cell_type": "markdown",
   "metadata": {},
   "source": [
    "# 3. INTRODUCCIÓN A PYTHON\n",
    "\n",
    "## Ejercicio 8\n",
    "\n",
    "1.Crear un diccionario de nombre dic_aminoacidos, donde se tenga la información de la tabla que se encuentra en http://www.russelllab.org/aas/aas.html. <br>\n",
    "2.Utilice como \"key\" los valores de la columna \"AA\" y las columnas \"Hits\" y \"%Abundance\" como \"values\". <br>\n",
    "3.Luego de crear el diccionario, extraiga los valores de \"key\" a una lista de nombre \"aminoacidos\" <br>\n",
    "4.Extraiga los valores de \"value\" a una lista de nombre \"propiedades\"<br>"
   ]
  },
  {
   "cell_type": "code",
   "execution_count": 57,
   "metadata": {},
   "outputs": [
    {
     "name": "stdout",
     "output_type": "stream",
     "text": [
      "['Trp', 'Cys', 'His', 'Arg', 'Met', 'Tyr', 'Gln', 'Phe', 'Asp', 'Pro', 'Als', 'Asn', 'Lys', 'Glu', 'Gly', 'Thr', 'Val', 'lle', 'Ser', 'Leu', 1550, 1905, 1695, 3093, 1102, 1525, 1830, 1616, 1691, 1598, 2018, 1103, 1366, 1471, 1386, 1147, 1225, 1033, 1206, 1127]\n",
      " \n",
      "Imprime los valores de los keys en una lista individual:\n",
      " \n",
      "Trp\n",
      "Cys\n",
      "His\n",
      "Arg\n",
      "Met\n",
      "Tyr\n",
      "Gln\n",
      "Phe\n",
      "Asp\n",
      "Pro\n",
      "Als\n",
      "Asn\n",
      "Lys\n",
      "Glu\n",
      "Gly\n",
      "Thr\n",
      "Val\n",
      "lle\n",
      "Ser\n",
      "Leu\n",
      "1550\n",
      "1905\n",
      "1695\n",
      "3093\n",
      "1102\n",
      "1525\n",
      "1830\n",
      "1616\n",
      "1691\n",
      "1598\n",
      "2018\n",
      "1103\n",
      "1366\n",
      "1471\n",
      "1386\n",
      "1147\n",
      "1225\n",
      "1033\n",
      "1206\n",
      "1127\n",
      " \n",
      "Imprime la lista completa que contiene todos los values: \n",
      " \n",
      "[5.05, 1.76, 2.26, 5.2, 2.32, 3.25, 3.96, 4.12, 5.12, 5.0, 7.34, 4.57, 5.81, 6.22, 6.89, 5.85, 6.48, 5.76, 7.38, 9.36, 5.05, 1.76, 2.26, 5.2, 2.32, 3.25, 3.96, 4.12, 5.12, 5.0, 7.34, 4.57, 5.81, 6.22, 6.89, 5.85, 6.48, 5.76, 7.38, 9.36]\n",
      " \n",
      "Imprime el contenido de los values en forma indidual y en una lista:\n",
      " \n",
      "5.05\n",
      "1.76\n",
      "2.26\n",
      "5.2\n",
      "2.32\n",
      "3.25\n",
      "3.96\n",
      "4.12\n",
      "5.12\n",
      "5.0\n",
      "7.34\n",
      "4.57\n",
      "5.81\n",
      "6.22\n",
      "6.89\n",
      "5.85\n",
      "6.48\n",
      "5.76\n",
      "7.38\n",
      "9.36\n",
      "5.05\n",
      "1.76\n",
      "2.26\n",
      "5.2\n",
      "2.32\n",
      "3.25\n",
      "3.96\n",
      "4.12\n",
      "5.12\n",
      "5.0\n",
      "7.34\n",
      "4.57\n",
      "5.81\n",
      "6.22\n",
      "6.89\n",
      "5.85\n",
      "6.48\n",
      "5.76\n",
      "7.38\n",
      "9.36\n"
     ]
    }
   ],
   "source": [
    "# Escriba aquí el código\n",
    "\n",
    "dic_aminoacidos = {\n",
    "        \"Trp\": 5.05,\n",
    "        \"Cys\": 1.76,\n",
    "        \"His\": 2.26,\n",
    "        \"Arg\": 5.20,\n",
    "        \"Met\": 2.32,\n",
    "        \"Tyr\": 3.25,\n",
    "        \"Gln\": 3.96,\n",
    "        \"Phe\": 4.12,\n",
    "        \"Asp\": 5.12,\n",
    "        \"Pro\": 5.00,\n",
    "        \"Als\": 7.34,\n",
    "        \"Asn\": 4.57,\n",
    "        \"Lys\": 5.81,\n",
    "        \"Glu\": 6.22,\n",
    "        \"Gly\": 6.89,\n",
    "        \"Thr\": 5.85,\n",
    "        \"Val\": 6.48,\n",
    "        \"lle\": 5.76,\n",
    "        \"Ser\": 7.38,\n",
    "        \"Leu\": 9.36,\n",
    "        1550: 5.05,\n",
    "        1905: 1.76,\n",
    "        1695: 2.26,\n",
    "        3093: 5.20,\n",
    "        1102: 2.32,\n",
    "        1525: 3.25,\n",
    "        1830: 3.96,\n",
    "        1616: 4.12,\n",
    "        1691: 5.12,\n",
    "        1598: 5.00,\n",
    "        2018: 7.34,\n",
    "        1103: 4.57,\n",
    "        1366: 5.81,\n",
    "        1471: 6.22,\n",
    "        1386: 6.89,\n",
    "        1147: 5.85,\n",
    "        1225: 6.48,\n",
    "        1033: 5.76,\n",
    "        1206: 7.38,\n",
    "        1127: 9.36\n",
    "    }\n",
    "dic_aminoacidos\n",
    "\n",
    "#Codigos para extraer los valores de los keys y crear una lista con ellos \n",
    "\n",
    "Aminoacidos = list(Aminoacidos)\n",
    "print(Aminoacidos)\n",
    "print(\" \")\n",
    "print(\"Imprime los valores de los keys en una lista individual:\")\n",
    "print(\" \")\n",
    "\n",
    "for key in Aminoacidos:\n",
    "    print(key)\n",
    "    \n",
    "#Codigos para extraer los valores de los values y crear una lista con ellos \n",
    "\n",
    "Propiedades = list(Propiedades)\n",
    "print(\" \")\n",
    "print(\"Imprime la lista completa que contiene todos los values: \")\n",
    "print(\" \")\n",
    "print(Propiedades)\n",
    "print(\" \")\n",
    "\n",
    "print(\"Imprime el contenido de los values en forma indidual y en una lista:\")\n",
    "print(\" \")\n",
    "\n",
    "for val in Propiedades:\n",
    "    print(val)"
   ]
  },
  {
   "cell_type": "markdown",
   "metadata": {},
   "source": [
    "## Ejercicio 9\n",
    "\n",
    "Descargue la data \"SI Table 1\" (10080Table1.xls) de la página https://www.pnas.org/content/suppl/2006/12/27/0610080104.DC1. Esta data corresponde a algunas características de sueño de mamíferos. Seleccione los 10 primeros registros de la columna \"Total sleep time, hr\" y cree una lista de nombre lista1."
   ]
  },
  {
   "cell_type": "code",
   "execution_count": 24,
   "metadata": {},
   "outputs": [
    {
     "data": {
      "text/plain": [
       "[14.9, 9.1]"
      ]
     },
     "execution_count": 24,
     "metadata": {},
     "output_type": "execute_result"
    }
   ],
   "source": [
    "# Escriba aquí el código\n",
    "lista1 = [8.6 , 18.0 , 19.4 , 13.7 , 11.1 , 10.1 , 10.3 , 15.6 , 14.9 , 9.1]\n",
    "len(lista1)\n",
    "lista1[8:]\n",
    "\n",
    "lista1.extend([\"gbi6\", \"bio1\", \"ikiam\"])\n",
    "len(lista1)\n",
    "\n",
    "sum(lista1)/len(lista1)\n",
    "\n",
    "lista1[5]\n",
    "\n",
    "lista1.append([\"gbi6\", \"bio1\", \"ikiam\"])\n",
    "lista1[-1][2]\n",
    "\n",
    "round(sum(lista1)/len(lista1),3)"
   ]
  },
  {
   "cell_type": "markdown",
   "metadata": {},
   "source": [
    "## Ejercicio 10\n",
    "\n",
    "1.Crear un diccionario de nombre dic_genomas, donde se tenga la información de la tabla 1 que se encuentra en https://www.nature.com/scitable/topicpage/eukaryotic-genome-complexity-437/. <br>\n",
    "2.Utilice como \"key\" los valores especie de la columna \"Species and Common Name\" y las otras dos columnas ingrese como \"values\". <br>\n",
    "3.Luego de crear el diccionario, extraiga los valores de \"key\" a una lista de nombre \"especies\".<br>\n",
    "4.Extraiga los valores de \"value\" a una lista de nombre \"genomas\".<br>"
   ]
  },
  {
   "cell_type": "code",
   "execution_count": 53,
   "metadata": {},
   "outputs": [
    {
     "name": "stdout",
     "output_type": "stream",
     "text": [
      "['Saccharomyces cerevisiae', 'Trichomonas vaginalis', 'Plasmodium falciparum', 'Caenorhabditis elegans', 'Drosophila melanogaster', 'Arabidopsis thaliana', 'Oryza sativa', 'Gallus gallus', 'Canis familiaris', 'Mus musculus', 'Homo sapiens']\n",
      " \n",
      "Imprime los valores de los keys en una lista individual:\n",
      " \n",
      "Saccharomyces cerevisiae\n",
      "Trichomonas vaginalis\n",
      "Plasmodium falciparum\n",
      "Caenorhabditis elegans\n",
      "Drosophila melanogaster\n",
      "Arabidopsis thaliana\n",
      "Oryza sativa\n",
      "Gallus gallus\n",
      "Canis familiaris\n",
      "Mus musculus\n",
      "Homo sapiens\n",
      " \n",
      "Imprime la lista completa que contiene todos los values: \n",
      " \n",
      "[[12, 6.0], [160, 60.0], [23, 5.0], [95.5, 18.0], [170, 14.0], [125, 25.0], [470, 51.0], [1, -3.0], [2.4, 19.0], [2.5, 30.0], [2.9, -5.0]]\n",
      "Imprime el contenido de los values en forma indidual y en una lista:\n",
      " \n",
      "[12, 6.0]\n",
      "[160, 60.0]\n",
      "[23, 5.0]\n",
      "[95.5, 18.0]\n",
      "[170, 14.0]\n",
      "[125, 25.0]\n",
      "[470, 51.0]\n",
      "[1, -3.0]\n",
      "[2.4, 19.0]\n",
      "[2.5, 30.0]\n",
      "[2.9, -5.0]\n"
     ]
    }
   ],
   "source": [
    "# Escriba aquí el código\n",
    "dic_genomas = {\n",
    "    \"Saccharomyces cerevisiae\":[12 , 6.000],\n",
    "\"Trichomonas vaginalis\":[160 , 60.000],\n",
    "\"Plasmodium falciparum\" :[23 , 5.000],\n",
    "\"Caenorhabditis elegans\":[95.5 , 18.000],\n",
    "\"Drosophila melanogaster\":[170 , 14.000],\n",
    "\"Arabidopsis thaliana\":[125 , 25.000],\n",
    "\"Oryza sativa\":[470 , 51.000],\n",
    "\"Gallus gallus\":[1 , 20.000-23.000],\n",
    "\"Canis familiaris\":[ 2.4 , 19.000],\n",
    "\"Mus musculus\": [2.5 , 30.000],\n",
    "\"Homo sapiens\": [2.9 , 20.000-25.000]\n",
    "}\n",
    "dic_genomas\n",
    "\n",
    "#Codigos para extraer los valores de los keys y crear una lista con ellos \n",
    "Especies = list(Especies)\n",
    "print(Especies)\n",
    "print(\" \")\n",
    "print(\"Imprime los valores de los keys en una lista individual:\")\n",
    "print(\" \")\n",
    "\n",
    "for key in Especies:\n",
    "    print(key)\n",
    "    \n",
    "#Codigos para extraer los valores de los values y crear una lista con ellos \n",
    "print(\" \")\n",
    "Genomas = list(Genomas)\n",
    "print(\"Imprime la lista completa que contiene todos los values: \")\n",
    "print(\" \")\n",
    "print(Genomas)\n",
    "\n",
    "print(\"Imprime el contenido de los values en forma indidual y en una lista:\")\n",
    "print(\" \")\n",
    "\n",
    "for val in Genomas:\n",
    "    print(val)"
   ]
  }
 ],
 "metadata": {
  "kernelspec": {
   "display_name": "Python 3",
   "language": "python",
   "name": "python3"
  },
  "language_info": {
   "codemirror_mode": {
    "name": "ipython",
    "version": 3
   },
   "file_extension": ".py",
   "mimetype": "text/x-python",
   "name": "python",
   "nbconvert_exporter": "python",
   "pygments_lexer": "ipython3",
   "version": "3.8.8"
  },
  "latex_envs": {
   "LaTeX_envs_menu_present": true,
   "autoclose": false,
   "autocomplete": true,
   "bibliofile": "biblio.bib",
   "cite_by": "apalike",
   "current_citInitial": 1,
   "eqLabelWithNumbers": true,
   "eqNumInitial": 1,
   "hotkeys": {
    "equation": "Ctrl-E",
    "itemize": "Ctrl-I"
   },
   "labels_anchors": false,
   "latex_user_defs": false,
   "report_style_numbering": false,
   "user_envs_cfg": false
  },
  "toc": {
   "base_numbering": 1,
   "nav_menu": {},
   "number_sections": true,
   "sideBar": false,
   "skip_h1_title": false,
   "title_cell": "Table of Contents",
   "title_sidebar": "Contents",
   "toc_cell": false,
   "toc_position": {
    "height": "1152.67px",
    "left": "41px",
    "top": "110px",
    "width": "253.458px"
   },
   "toc_section_display": true,
   "toc_window_display": false
  },
  "varInspector": {
   "cols": {
    "lenName": 16,
    "lenType": 16,
    "lenVar": 40
   },
   "kernels_config": {
    "python": {
     "delete_cmd_postfix": "",
     "delete_cmd_prefix": "del ",
     "library": "var_list.py",
     "varRefreshCmd": "print(var_dic_list())"
    },
    "r": {
     "delete_cmd_postfix": ") ",
     "delete_cmd_prefix": "rm(",
     "library": "var_list.r",
     "varRefreshCmd": "cat(var_dic_list()) "
    }
   },
   "types_to_exclude": [
    "module",
    "function",
    "builtin_function_or_method",
    "instance",
    "_Feature"
   ],
   "window_display": false
  }
 },
 "nbformat": 4,
 "nbformat_minor": 4
}
